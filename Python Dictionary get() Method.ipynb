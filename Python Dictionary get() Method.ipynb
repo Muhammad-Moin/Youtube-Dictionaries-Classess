{
 "cells": [
  {
   "cell_type": "markdown",
   "id": "fce5eef0",
   "metadata": {},
   "source": [
    "# <center><h3>Ghouri Academy</h3></center>"
   ]
  },
  {
   "cell_type": "markdown",
   "id": "b3927725",
   "metadata": {},
   "source": [
    "# Get Method\n",
    "The get() method returns the value of the item with the specified key.\n",
    "\n",
    "\n",
    "dict.get(key[, value]) \n",
    "\n",
    "dict.get(key, default=None)"
   ]
  },
  {
   "cell_type": "code",
   "execution_count": 22,
   "id": "5924ce9c",
   "metadata": {},
   "outputs": [],
   "source": [
    "#Question\n",
    "lst = \"Giving up doesn't always mean you are weak, sometimes it means you are strong enough to let go\""
   ]
  },
  {
   "cell_type": "code",
   "execution_count": 1,
   "id": "7cd534ce",
   "metadata": {},
   "outputs": [
    {
     "name": "stdout",
     "output_type": "stream",
     "text": [
      "one\n",
      "0\n"
     ]
    }
   ],
   "source": [
    "d = {1: 'one', 2:'two','age':22}\n",
    "print(d[1])\n",
    "# if 3 not found in exits dictionary so defalt parameter will be return like 0\n",
    "print(d.get(3,0))"
   ]
  },
  {
   "cell_type": "code",
   "execution_count": 2,
   "id": "c276970a",
   "metadata": {},
   "outputs": [
    {
     "name": "stdout",
     "output_type": "stream",
     "text": [
      "{'age': 22}\n"
     ]
    }
   ],
   "source": [
    "info = {}\n",
    "info['age'] = 22\n",
    "print(info)\n",
    "#Question \n",
    "for i in lst.split():\n",
    "    info[i] = info.get(i,0)+1\n",
    "print(info )"
   ]
  }
 ],
 "metadata": {
  "kernelspec": {
   "display_name": "Python 3 (ipykernel)",
   "language": "python",
   "name": "python3"
  },
  "language_info": {
   "codemirror_mode": {
    "name": "ipython",
    "version": 3
   },
   "file_extension": ".py",
   "mimetype": "text/x-python",
   "name": "python",
   "nbconvert_exporter": "python",
   "pygments_lexer": "ipython3",
   "version": "3.9.12"
  }
 },
 "nbformat": 4,
 "nbformat_minor": 5
}
